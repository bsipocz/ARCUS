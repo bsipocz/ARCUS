{
 "cells": [
  {
   "cell_type": "markdown",
   "metadata": {
    "nbpresent": {
     "id": "4fa58a71-55c8-4ead-9a9f-f291e1f7c6d4"
    },
    "slideshow": {
     "slide_type": "-"
    }
   },
   "source": [
    "# Combining Sub-aperture and tilted Rowland geometry to multiplex spectral channels\n",
    "\n",
    "### or - as Dave called it -\n",
    "\n",
    "# A Doubly-Tilted Rowland Geometry Spectrometer Design"
   ]
  },
  {
   "cell_type": "code",
   "execution_count": null,
   "metadata": {
    "collapsed": true
   },
   "outputs": [],
   "source": [
    "import os\n",
    "\n",
    "import numpy as np\n",
    "import astropy.units as u\n",
    "from astropy.coordinates import SkyCoord"
   ]
  },
  {
   "cell_type": "code",
   "execution_count": null,
   "metadata": {
    "collapsed": false,
    "nbpresent": {
     "id": "a988bc09-ce4d-4e3e-9e82-075f7be26977"
    },
    "slideshow": {
     "slide_type": "-"
    }
   },
   "outputs": [],
   "source": [
    "import marxs\n",
    "from marxs.missions import chandra\n",
    "from marxs.missions.chandra.hess import HETG\n",
    "import marxs.visualization.mayavi\n",
    "from marxs import optics, source"
   ]
  },
  {
   "cell_type": "code",
   "execution_count": null,
   "metadata": {
    "collapsed": false,
    "nbpresent": {
     "id": "c2d5a5da-e08b-47d5-a6e7-50711c159e2f"
    },
    "slideshow": {
     "slide_type": "-"
    }
   },
   "outputs": [],
   "source": [
    "# Setting up mayavi for notebook output\n",
    "from mayavi import mlab\n",
    "# Without setting width and height it all compresses into a sinle pixel for some reason\n",
    "mlab.init_notebook(width=800, height=600)"
   ]
  },
  {
   "cell_type": "code",
   "execution_count": null,
   "metadata": {
    "collapsed": true,
    "nbpresent": {
     "id": "6c1e2b65-e491-4cb7-a28f-33001d8ceb61"
    },
    "slideshow": {
     "slide_type": "-"
    }
   },
   "outputs": [],
   "source": [
    "# After I've loaded Mayavi, I can also load matplotlib without screwing things up\n",
    "%matplotlib inline\n",
    "from matplotlib import pyplot as plt\n",
    "import matplotlib as mpl"
   ]
  },
  {
   "cell_type": "code",
   "execution_count": null,
   "metadata": {
    "collapsed": false,
    "nbpresent": {
     "id": "76b42aa4-af62-4b19-8b96-e50137a7e7e4"
    },
    "scrolled": true
   },
   "outputs": [],
   "source": [
    "keeppos = marxs.simulator.KeepCol('pos')\n",
    "marxm = optics.MarxMirror(os.path.join(os.path.dirname(optics.__file__), 'hrma.par'))\n",
    "hetg = HETG()\n",
    "aciss = chandra.ACIS(chips=[4,5,6,7,8,9], aimpoint=chandra.AIMPOINTS['ACIS-S'])\n",
    "chand = chandra.Chandra(elements=[marxm, hetg, aciss], postprocess_steps = [keeppos])"
   ]
  },
  {
   "cell_type": "code",
   "execution_count": null,
   "metadata": {
    "collapsed": false
   },
   "outputs": [],
   "source": [
    "en = np.arange(0.5, 7., .5)\n",
    "flux = en**(-2)\n",
    "\n",
    "# Input as dictionary\n",
    "dictspectrum = {'energy': en, 'flux': flux}\n",
    "\n",
    "star = source.PointSource((30., 30.), energy=2., flux= 1.)\n",
    "pointing = source.FixedPointing(coords=(30., 30.))\n",
    "\n",
    "photons = star.generate_photons(20000)\n",
    "photons = pointing(photons)\n",
    "photons = chand(photons)\n",
    "ind = (photons['probability'] > 0) & (photons['facet'] >=0) & np.isfinite(photons['tdetx'])\n"
   ]
  },
  {
   "cell_type": "code",
   "execution_count": null,
   "metadata": {
    "collapsed": false
   },
   "outputs": [],
   "source": [
    "# Color all hetg gratings according to the sector they belong to\n",
    "sectorcol = dict(zip('ABCDEFG', plt.cm.gist_rainbow(np.linspace(0, 1, 6))[:, :3]))\n",
    "for e in hetg.elements:\n",
    "    e.display = {'color': sectorcol[e.name[1]]}\n",
    "# Color all photons according to the sector they go through\n",
    "photons['color'] = [sectorcol[hetg.elements[int(i)].name[1]] for i in photons['facet']]"
   ]
  },
  {
   "cell_type": "code",
   "execution_count": null,
   "metadata": {
    "collapsed": false
   },
   "outputs": [],
   "source": [
    "posdat = marxs.visualization.utils.format_saved_positions(keeppos)[ind, :, :]\n",
    "\n",
    "fig = mlab.figure()\n",
    "chand.plot(format='mayavi', viewer=fig)\n",
    "marxs.visualization.mayavi.plot_rays(posdat, scalar=photons['energy'][ind])\n",
    "fig"
   ]
  },
  {
   "cell_type": "code",
   "execution_count": null,
   "metadata": {
    "collapsed": false,
    "scrolled": true
   },
   "outputs": [],
   "source": [
    "pp = photons[ind]\n",
    "fig = plt.figure()\n",
    "ax0 = fig.add_subplot(121, axisbg='grey')\n",
    "ax1 = fig.add_subplot(122, axisbg='gray')\n",
    "for p in pp [(pp['tdetx'] > 4000)&(pp['tdetx'] < 4150)]:\n",
    "    ax0.plot(p['tdetx']-4136, p['tdety']-2232, '.', c=p['color'])\n",
    "ax0.set_aspect(\"equal\")\n",
    "ax0.set_xlim([0, 3])\n",
    "ax0.set_ylim([0, 4])\n",
    "ax0.set_title('0 th order')\n",
    "\n",
    "for p in pp [(pp['tdetx'] > 3500)&(pp['tdetx'] < 3800)]:\n",
    "    ax1.plot(p['tdetx']-3583, p['tdety']-2183, '.', c=p['color'])\n",
    "ax1.set_aspect(\"equal\")\n",
    "ax1.set_xlim([0, 3])\n",
    "ax1.set_ylim([0, 4])\n",
    "ax1.set_title('1 st order MEG')"
   ]
  },
  {
   "cell_type": "code",
   "execution_count": null,
   "metadata": {
    "collapsed": false
   },
   "outputs": [],
   "source": [
    "# Make a model that is not to scale for display purposes.\n",
    "# Pick a small Rowland radius and make diffraction angle much larger.\n",
    "\n",
    "from marxs.design import rowland\n",
    "demo_rowland = rowland.RowlandTorus(500, 500)\n",
    "\n",
    "demo_gas = rowland.GratingArrayStructure(demo_rowland, 25., x_range=[800, 1000], \n",
    "                                         radius=[20, 100],\n",
    "                                         elem_class=marxs.optics.FlatGrating,\n",
    "                                         elem_args={'d': 1e-6, 'zoom': [1, 10, 10],\n",
    "                                                   'order_selector': marxs.optics.constant_order_factory(1)}\n",
    "                                        )\n",
    "demo_det = rowland.RowlandCircleArray(demo_rowland,\n",
    "                                      d_element=10.5,\n",
    "                                      theta=[np.pi - 0.5, np.pi + 0.5],\n",
    "                                     elem_class= marxs.optics.FlatDetector,\n",
    "                                     elem_args={'zoom': [1, 5, 5], 'pixsize': 0.01})"
   ]
  },
  {
   "cell_type": "code",
   "execution_count": null,
   "metadata": {
    "collapsed": true
   },
   "outputs": [],
   "source": []
  }
 ],
 "metadata": {
  "anaconda-cloud": {},
  "kernelspec": {
   "display_name": "Python [conda root]",
   "language": "python",
   "name": "conda-root-py"
  },
  "language_info": {
   "codemirror_mode": {
    "name": "ipython",
    "version": 2
   },
   "file_extension": ".py",
   "mimetype": "text/x-python",
   "name": "python",
   "nbconvert_exporter": "python",
   "pygments_lexer": "ipython2",
   "version": "2.7.12"
  },
  "nbpresent": {
   "slides": {},
   "themes": {}
  }
 },
 "nbformat": 4,
 "nbformat_minor": 2
}
